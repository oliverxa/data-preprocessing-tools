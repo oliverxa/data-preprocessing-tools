{
 "cells": [
  {
   "cell_type": "code",
   "execution_count": 1,
   "metadata": {},
   "outputs": [],
   "source": [
    "import os\n",
    "from PIL import Image\n",
    "import matplotlib as plt\n",
    "import numpy as np\n",
    "from scipy.misc import imread\n",
    " \n"
   ]
  },
  {
   "cell_type": "code",
   "execution_count": 2,
   "metadata": {},
   "outputs": [
    {
     "name": "stderr",
     "output_type": "stream",
     "text": [
      "/home/hkuit155/anaconda3/envs/python3.6/lib/python3.6/site-packages/ipykernel_launcher.py:9: DeprecationWarning: `imread` is deprecated!\n",
      "`imread` is deprecated in SciPy 1.0.0, and will be removed in 1.2.0.\n",
      "Use ``imageio.imread`` instead.\n",
      "  if __name__ == '__main__':\n",
      "/home/hkuit155/anaconda3/envs/python3.6/lib/python3.6/site-packages/ipykernel_launcher.py:24: DeprecationWarning: `imread` is deprecated!\n",
      "`imread` is deprecated in SciPy 1.0.0, and will be removed in 1.2.0.\n",
      "Use ``imageio.imread`` instead.\n"
     ]
    },
    {
     "name": "stdout",
     "output_type": "stream",
     "text": [
      "R_mean is 0.009432, G_mean is 0.603072, B_mean is 0.976632\n",
      "R_var is 0.034339, G_var is 0.241252, B_var is 0.365843\n"
     ]
    }
   ],
   "source": [
    "filepath = r'./coco/JPEGImages/'  # 数据集目录\n",
    "pathDir = os.listdir(filepath)\n",
    " \n",
    "R_channel = 0\n",
    "G_channel = 0\n",
    "B_channel = 0\n",
    "for idx in range(len(pathDir)):\n",
    "    filename = pathDir[idx]\n",
    "    img = imread(os.path.join(filepath, filename)) / 255.0\n",
    "    R_channel = R_channel + np.sum(img[:, :, 0])\n",
    "    G_channel = G_channel + np.sum(img[:, :, 1])\n",
    "    B_channel = B_channel + np.sum(img[:, :, 2])\n",
    " \n",
    "num = len(pathDir) * 300 * 300  # 这里（512,512）是每幅图片的大小，所有图片尺寸都一样\n",
    "R_mean = R_channel / num\n",
    "G_mean = G_channel / num\n",
    "B_mean = B_channel / num\n",
    " \n",
    "R_channel = 0\n",
    "G_channel = 0\n",
    "B_channel = 0\n",
    "for idx in range(len(pathDir)):\n",
    "    filename = pathDir[idx]\n",
    "    img = imread(os.path.join(filepath, filename)) / 255.0\n",
    "    R_channel = R_channel + np.sum((img[:, :, 0] - R_mean) ** 2)\n",
    "    G_channel = G_channel + np.sum((img[:, :, 1] - G_mean) ** 2)\n",
    "    B_channel = B_channel + np.sum((img[:, :, 2] - B_mean) ** 2)\n",
    " \n",
    "R_var = np.sqrt(R_channel / num)\n",
    "G_var = np.sqrt(G_channel / num)\n",
    "B_var = np.sqrt(B_channel / num)\n",
    "print(\"R_mean is %f, G_mean is %f, B_mean is %f\" % (R_mean, G_mean, B_mean))\n",
    "print(\"R_var is %f, G_var is %f, B_var is %f\" % (R_var, G_var, B_var))"
   ]
  },
  {
   "cell_type": "code",
   "execution_count": null,
   "metadata": {},
   "outputs": [],
   "source": []
  }
 ],
 "metadata": {
  "kernelspec": {
   "display_name": "python3.6",
   "language": "python",
   "name": "python3.6"
  },
  "language_info": {
   "codemirror_mode": {
    "name": "ipython",
    "version": 3
   },
   "file_extension": ".py",
   "mimetype": "text/x-python",
   "name": "python",
   "nbconvert_exporter": "python",
   "pygments_lexer": "ipython3",
   "version": "3.6.9"
  }
 },
 "nbformat": 4,
 "nbformat_minor": 2
}
